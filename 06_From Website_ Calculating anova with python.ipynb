{
 "cells": [
  {
   "cell_type": "markdown",
   "metadata": {},
   "source": [
    "##### Info:\n",
    "This tutorials aims to provide a short overview of an analysis of variance between land cover classes and their digital number values. The values were randomly created, as well as the labels per land cover class. \n",
    "This short tutorial is based on a blog post found here:\n",
    "\n",
    "http://hamalg.blogspot.com/2015/11/python-for-data-analysis-part-16_23.html?m=1"
   ]
  },
  {
   "cell_type": "code",
   "execution_count": 1,
   "metadata": {},
   "outputs": [],
   "source": [
    "import numpy as np\n",
    "import pandas as pd\n",
    "import matplotlib.pyplot as plt\n",
    "import scipy.stats as stats"
   ]
  },
  {
   "cell_type": "markdown",
   "metadata": {},
   "source": [
    "##### Generating random labels"
   ]
  },
  {
   "cell_type": "code",
   "execution_count": 2,
   "metadata": {},
   "outputs": [
    {
     "data": {
      "text/plain": [
       "array(['cropland', 'grassland', 'grassland', ..., 'cropland', 'grassland',\n",
       "       'cropland'], dtype='<U9')"
      ]
     },
     "execution_count": 2,
     "metadata": {},
     "output_type": "execute_result"
    }
   ],
   "source": [
    "np.random.seed(123)\n",
    "classes = [\"forest\", \"urban\", \"grassland\", \"water\", \"cropland\"]\n",
    "labels = np.random.choice(a = classes, p = [0.05, 0.15, 0.25, 0.05, 0.5], size = 10000)\n",
    "labels"
   ]
  },
  {
   "cell_type": "markdown",
   "metadata": {},
   "source": [
    "##### Generating random digital numbers"
   ]
  },
  {
   "cell_type": "code",
   "execution_count": 3,
   "metadata": {},
   "outputs": [
    {
     "data": {
      "text/plain": [
       "array([266, 388, 495, ..., 101, 255, 229])"
      ]
     },
     "execution_count": 3,
     "metadata": {},
     "output_type": "execute_result"
    }
   ],
   "source": [
    "dn_values = np.random.choice(500, size = 10000)\n",
    "dn_values"
   ]
  },
  {
   "cell_type": "markdown",
   "metadata": {},
   "source": [
    "##### Creating dataframe"
   ]
  },
  {
   "cell_type": "code",
   "execution_count": 4,
   "metadata": {},
   "outputs": [
    {
     "data": {
      "text/html": [
       "<div>\n",
       "<style scoped>\n",
       "    .dataframe tbody tr th:only-of-type {\n",
       "        vertical-align: middle;\n",
       "    }\n",
       "\n",
       "    .dataframe tbody tr th {\n",
       "        vertical-align: top;\n",
       "    }\n",
       "\n",
       "    .dataframe thead th {\n",
       "        text-align: right;\n",
       "    }\n",
       "</style>\n",
       "<table border=\"1\" class=\"dataframe\">\n",
       "  <thead>\n",
       "    <tr style=\"text-align: right;\">\n",
       "      <th></th>\n",
       "      <th>label</th>\n",
       "      <th>dn</th>\n",
       "    </tr>\n",
       "  </thead>\n",
       "  <tbody>\n",
       "    <tr>\n",
       "      <th>0</th>\n",
       "      <td>cropland</td>\n",
       "      <td>266</td>\n",
       "    </tr>\n",
       "    <tr>\n",
       "      <th>1</th>\n",
       "      <td>grassland</td>\n",
       "      <td>388</td>\n",
       "    </tr>\n",
       "    <tr>\n",
       "      <th>2</th>\n",
       "      <td>grassland</td>\n",
       "      <td>495</td>\n",
       "    </tr>\n",
       "    <tr>\n",
       "      <th>3</th>\n",
       "      <td>cropland</td>\n",
       "      <td>164</td>\n",
       "    </tr>\n",
       "    <tr>\n",
       "      <th>4</th>\n",
       "      <td>cropland</td>\n",
       "      <td>390</td>\n",
       "    </tr>\n",
       "    <tr>\n",
       "      <th>5</th>\n",
       "      <td>grassland</td>\n",
       "      <td>237</td>\n",
       "    </tr>\n",
       "    <tr>\n",
       "      <th>6</th>\n",
       "      <td>cropland</td>\n",
       "      <td>404</td>\n",
       "    </tr>\n",
       "    <tr>\n",
       "      <th>7</th>\n",
       "      <td>cropland</td>\n",
       "      <td>128</td>\n",
       "    </tr>\n",
       "    <tr>\n",
       "      <th>8</th>\n",
       "      <td>water</td>\n",
       "      <td>103</td>\n",
       "    </tr>\n",
       "    <tr>\n",
       "      <th>9</th>\n",
       "      <td>grassland</td>\n",
       "      <td>285</td>\n",
       "    </tr>\n",
       "  </tbody>\n",
       "</table>\n",
       "</div>"
      ],
      "text/plain": [
       "       label   dn\n",
       "0   cropland  266\n",
       "1  grassland  388\n",
       "2  grassland  495\n",
       "3   cropland  164\n",
       "4   cropland  390\n",
       "5  grassland  237\n",
       "6   cropland  404\n",
       "7   cropland  128\n",
       "8      water  103\n",
       "9  grassland  285"
      ]
     },
     "execution_count": 4,
     "metadata": {},
     "output_type": "execute_result"
    }
   ],
   "source": [
    "df = pd.DataFrame({'label': labels, 'dn': dn_values})\n",
    "df.head(10)"
   ]
  },
  {
   "cell_type": "markdown",
   "metadata": {},
   "source": [
    "##### Grouping data by label"
   ]
  },
  {
   "cell_type": "code",
   "execution_count": 5,
   "metadata": {},
   "outputs": [
    {
     "data": {
      "text/plain": [
       "{'cropland': Int64Index([   0,    3,    4,    6,    7,   11,   15,   18,   19,   20,\n",
       "             ...\n",
       "             9982, 9983, 9986, 9987, 9988, 9989, 9994, 9996, 9997, 9999],\n",
       "            dtype='int64', length=5035),\n",
       " 'forest': Int64Index([  74,   87,  118,  147,  186,  194,  196,  209,  229,  235,\n",
       "             ...\n",
       "             9714, 9730, 9760, 9784, 9810, 9848, 9862, 9918, 9930, 9985],\n",
       "            dtype='int64', length=504),\n",
       " 'grassland': Int64Index([   1,    2,    5,    9,   10,   12,   14,   25,   26,   27,\n",
       "             ...\n",
       "             9968, 9969, 9974, 9975, 9978, 9980, 9990, 9992, 9995, 9998],\n",
       "            dtype='int64', length=2422),\n",
       " 'urban': Int64Index([  13,   16,   17,   30,   41,   50,   65,   68,   70,   77,\n",
       "             ...\n",
       "             9951, 9960, 9961, 9967, 9973, 9979, 9981, 9984, 9991, 9993],\n",
       "            dtype='int64', length=1560),\n",
       " 'water': Int64Index([   8,   33,   46,  138,  144,  184,  198,  215,  226,  241,\n",
       "             ...\n",
       "             9740, 9746, 9770, 9797, 9825, 9827, 9921, 9938, 9948, 9956],\n",
       "            dtype='int64', length=479)}"
      ]
     },
     "execution_count": 5,
     "metadata": {},
     "output_type": "execute_result"
    }
   ],
   "source": [
    "groups = df.groupby('label').groups\n",
    "groups"
   ]
  },
  {
   "cell_type": "markdown",
   "metadata": {},
   "source": [
    "##### Extracting the individual groups in an array"
   ]
  },
  {
   "cell_type": "code",
   "execution_count": 6,
   "metadata": {},
   "outputs": [],
   "source": [
    "forest = dn_values[groups['forest']]\n",
    "cropland = dn_values[groups['cropland']]\n",
    "grassland = dn_values[groups['grassland']]\n",
    "urban = dn_values[groups['urban']]\n",
    "water = dn_values[groups['water']]"
   ]
  },
  {
   "cell_type": "markdown",
   "metadata": {},
   "source": [
    "##### Performing the anova"
   ]
  },
  {
   "cell_type": "code",
   "execution_count": 7,
   "metadata": {},
   "outputs": [
    {
     "data": {
      "text/plain": [
       "F_onewayResult(statistic=0.30636815043537696, pvalue=0.8738792967978335)"
      ]
     },
     "execution_count": 7,
     "metadata": {},
     "output_type": "execute_result"
    }
   ],
   "source": [
    "stats.f_oneway(forest, cropland, grassland, urban, water)"
   ]
  },
  {
   "cell_type": "markdown",
   "metadata": {},
   "source": [
    "##### Performing the post - hoc test"
   ]
  },
  {
   "cell_type": "code",
   "execution_count": 8,
   "metadata": {},
   "outputs": [
    {
     "data": {
      "text/plain": [
       "[('forest', 'urban'),\n",
       " ('forest', 'grassland'),\n",
       " ('forest', 'water'),\n",
       " ('forest', 'cropland'),\n",
       " ('urban', 'grassland'),\n",
       " ('urban', 'water'),\n",
       " ('urban', 'cropland'),\n",
       " ('grassland', 'water'),\n",
       " ('grassland', 'cropland'),\n",
       " ('water', 'cropland')]"
      ]
     },
     "execution_count": 8,
     "metadata": {},
     "output_type": "execute_result"
    }
   ],
   "source": [
    "cid_pairs = []\n",
    "for cid1 in range(4):\n",
    "    for cid2 in range(cid1+1,5):\n",
    "        cid_pairs.append((classes[cid1], classes[cid2]))\n",
    "\n",
    "cid_pairs "
   ]
  },
  {
   "cell_type": "code",
   "execution_count": 9,
   "metadata": {},
   "outputs": [
    {
     "name": "stdout",
     "output_type": "stream",
     "text": [
      "forest urban\n",
      "Ttest_indResult(statistic=0.6946848273953521, pvalue=0.48733110353888176)\n",
      "forest grassland\n",
      "Ttest_indResult(statistic=0.8501438110793602, pvalue=0.39531474163613944)\n",
      "forest water\n",
      "Ttest_indResult(statistic=0.45933375237769636, pvalue=0.6460962781592008)\n",
      "forest cropland\n",
      "Ttest_indResult(statistic=1.0325125965526665, pvalue=0.3018771450876062)\n",
      "urban grassland\n",
      "Ttest_indResult(statistic=0.1792471356757301, pvalue=0.8577527782462038)\n",
      "urban water\n",
      "Ttest_indResult(statistic=-0.12014927192464044, pvalue=0.904376750473604)\n",
      "urban cropland\n",
      "Ttest_indResult(statistic=0.4409467191153829, pvalue=0.65926602840313)\n",
      "grassland water\n",
      "Ttest_indResult(statistic=-0.24285213853493262, pvalue=0.8081371240447843)\n",
      "grassland cropland\n",
      "Ttest_indResult(statistic=0.28316963443813303, pvalue=0.7770546667547222)\n",
      "water cropland\n",
      "Ttest_indResult(statistic=0.3986207000779256, pvalue=0.6901881471791584)\n"
     ]
    }
   ],
   "source": [
    "for cid1, cid2 in cid_pairs:\n",
    "    print(cid1, cid2)\n",
    "    print(stats.ttest_ind(dn_values[groups[cid1]],\n",
    "                         dn_values[groups[cid2]]))"
   ]
  },
  {
   "cell_type": "markdown",
   "metadata": {},
   "source": [
    "In uneven datasets there is the need to adjust for the number of comparisons made by dividing the statistical significance level by the number of comparisons made. In our case we have a total number of 10 comparisons, and we are looking at a 5% level of significance, therefore we check p-values of the order 0.05/10 = 0.005 or less. This case of adjustment is called Bonferronni correction"
   ]
  },
  {
   "cell_type": "markdown",
   "metadata": {},
   "source": [
    "##### Using Tukey post hoc"
   ]
  },
  {
   "cell_type": "code",
   "execution_count": 10,
   "metadata": {},
   "outputs": [],
   "source": [
    "from statsmodels.stats.multicomp import pairwise_tukeyhsd"
   ]
  },
  {
   "cell_type": "markdown",
   "metadata": {},
   "source": [
    "##### Calculating the Tukey post hoc"
   ]
  },
  {
   "cell_type": "code",
   "execution_count": 11,
   "metadata": {},
   "outputs": [],
   "source": [
    "tukey = pairwise_tukeyhsd(endog = dn_values,\n",
    "                         groups = labels,\n",
    "                         alpha = 0.05) # Significant level\n"
   ]
  },
  {
   "cell_type": "code",
   "execution_count": 12,
   "metadata": {},
   "outputs": [
    {
     "data": {
      "text/plain": [
       "<matplotlib.collections.LineCollection at 0x7f22b29f6898>"
      ]
     },
     "execution_count": 12,
     "metadata": {},
     "output_type": "execute_result"
    },
    {
     "data": {
      "image/png": "[encoded data removed]",
      "text/plain": [
       "<Figure size 720x432 with 1 Axes>"
      ]
     },
     "metadata": {
      "needs_background": "light"
     },
     "output_type": "display_data"
    }
   ],
   "source": [
    "tukey.plot_simultaneous()\n",
    "plt.vlines(x = 0, ymin = 0, ymax = 5, color = 'green')"
   ]
  },
  {
   "cell_type": "code",
   "execution_count": 13,
   "metadata": {},
   "outputs": [
    {
     "data": {
      "text/html": [
       "<table class=\"simpletable\">\n",
       "<caption>Multiple Comparison of Means - Tukey HSD,FWER=0.05</caption>\n",
       "<tr>\n",
       "   <th>group1</th>    <th>group2</th>   <th>meandiff</th>   <th>lower</th>   <th>upper</th>  <th>reject</th>\n",
       "</tr>\n",
       "<tr>\n",
       "  <td>cropland</td>   <td>forest</td>    <td>6.9978</td>  <td>-11.5087</td> <td>25.5044</td>  <td>False</td>\n",
       "</tr>\n",
       "<tr>\n",
       "  <td>cropland</td>  <td>grassland</td>   <td>1.017</td>   <td>-8.7784</td> <td>10.8123</td>  <td>False</td>\n",
       "</tr>\n",
       "<tr>\n",
       "  <td>cropland</td>    <td>urban</td>    <td>1.8607</td>   <td>-9.6174</td> <td>13.3388</td>  <td>False</td>\n",
       "</tr>\n",
       "<tr>\n",
       "  <td>cropland</td>    <td>water</td>    <td>2.7793</td>  <td>-16.1612</td> <td>21.7197</td>  <td>False</td>\n",
       "</tr>\n",
       "<tr>\n",
       "   <td>forest</td>   <td>grassland</td>  <td>-5.9808</td> <td>-25.3745</td> <td>13.4128</td>  <td>False</td>\n",
       "</tr>\n",
       "<tr>\n",
       "   <td>forest</td>     <td>urban</td>    <td>-5.1371</td> <td>-25.4327</td> <td>15.1586</td>  <td>False</td>\n",
       "</tr>\n",
       "<tr>\n",
       "   <td>forest</td>     <td>water</td>    <td>-4.2185</td> <td>-29.4951</td> <td>21.058</td>   <td>False</td>\n",
       "</tr>\n",
       "<tr>\n",
       "  <td>grassland</td>   <td>urban</td>    <td>0.8438</td>  <td>-12.0158</td> <td>13.7033</td>  <td>False</td>\n",
       "</tr>\n",
       "<tr>\n",
       "  <td>grassland</td>   <td>water</td>    <td>1.7623</td>  <td>-18.0459</td> <td>21.5704</td>  <td>False</td>\n",
       "</tr>\n",
       "<tr>\n",
       "    <td>urban</td>     <td>water</td>    <td>0.9185</td>  <td>-19.7735</td> <td>21.6106</td>  <td>False</td>\n",
       "</tr>\n",
       "</table>"
      ],
      "text/plain": [
       "<class 'statsmodels.iolib.table.SimpleTable'>"
      ]
     },
     "execution_count": 13,
     "metadata": {},
     "output_type": "execute_result"
    }
   ],
   "source": [
    "tukey.summary()"
   ]
  },
  {
   "cell_type": "markdown",
   "metadata": {},
   "source": [
    "##### Summary:\n",
    "The output of a Tukey test, shows us the suggestion based on the data, if we should or not reject a null hypothesis (there are no differences between the mean values of the groups). This test above suggest that we cannot reject the null hypothesis in any of the comparisons."
   ]
  }
 ],
 "metadata": {
  "kernelspec": {
   "display_name": "Python 3",
   "language": "python",
   "name": "python3"
  },
  "language_info": {
   "codemirror_mode": {
    "name": "ipython",
    "version": 3
   },
   "file_extension": ".py",
   "mimetype": "text/x-python",
   "name": "python",
   "nbconvert_exporter": "python",
   "pygments_lexer": "ipython3",
   "version": "3.6.8"
  }
 },
 "nbformat": 4,
 "nbformat_minor": 2
}
