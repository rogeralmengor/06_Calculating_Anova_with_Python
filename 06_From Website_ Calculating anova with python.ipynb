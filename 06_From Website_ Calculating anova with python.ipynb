{
 "cells": [
  {
   "cell_type": "markdown",
   "metadata": {},
   "source": [
    "##### Info:\n",
    "This tutorials aims to provide a short overview of an analysis of variance between land cover classes and their digital number values. The values were randomly created, as well as the labels per land cover class. \n",
    "This short tutorial is based on a blog post found here:\n",
    "\n",
    "http://hamalg.blogspot.com/2015/11/python-for-data-analysis-part-16_23.html?m=1"
   ]
  },
  {
   "cell_type": "code",
   "execution_count": 1,
   "metadata": {},
   "outputs": [],
   "source": [
    "import numpy as np\n",
    "import pandas as pd\n",
    "import matplotlib.pyplot as plt\n",
    "import scipy.stats as stats"
   ]
  },
  {
   "cell_type": "markdown",
   "metadata": {},
   "source": [
    "##### Generating random labels"
   ]
  },
  {
   "cell_type": "code",
   "execution_count": 13,
   "metadata": {},
   "outputs": [
    {
     "data": {
      "text/plain": [
       "array(['cropland', 'grassland', 'grassland', ..., 'cropland', 'grassland',\n",
       "       'cropland'], dtype='<U9')"
      ]
     },
     "execution_count": 13,
     "metadata": {},
     "output_type": "execute_result"
    }
   ],
   "source": [
    "np.random.seed(123)\n",
    "classes = [\"forest\", \"urban\", \"grassland\", \"water\", \"cropland\"]\n",
    "labels = np.random.choice(a = classes, p = [0.05, 0.15, 0.25, 0.05, 0.5], size = 10000)\n",
    "labels"
   ]
  },
  {
   "cell_type": "markdown",
   "metadata": {},
   "source": [
    "##### Generating random digital numbers"
   ]
  },
  {
   "cell_type": "code",
   "execution_count": 12,
   "metadata": {},
   "outputs": [
    {
     "data": {
      "text/plain": [
       "array([140, 224,  11, ..., 152, 254, 475])"
      ]
     },
     "execution_count": 12,
     "metadata": {},
     "output_type": "execute_result"
    }
   ],
   "source": [
    "dn_values = np.random.choice(500, size = 10000)\n",
    "dn_values"
   ]
  },
  {
   "cell_type": "markdown",
   "metadata": {},
   "source": [
    "##### Creating dataframe"
   ]
  },
  {
   "cell_type": "code",
   "execution_count": 14,
   "metadata": {},
   "outputs": [
    {
     "data": {
      "text/html": [
       "<div>\n",
       "<style scoped>\n",
       "    .dataframe tbody tr th:only-of-type {\n",
       "        vertical-align: middle;\n",
       "    }\n",
       "\n",
       "    .dataframe tbody tr th {\n",
       "        vertical-align: top;\n",
       "    }\n",
       "\n",
       "    .dataframe thead th {\n",
       "        text-align: right;\n",
       "    }\n",
       "</style>\n",
       "<table border=\"1\" class=\"dataframe\">\n",
       "  <thead>\n",
       "    <tr style=\"text-align: right;\">\n",
       "      <th></th>\n",
       "      <th>label</th>\n",
       "      <th>dn</th>\n",
       "    </tr>\n",
       "  </thead>\n",
       "  <tbody>\n",
       "    <tr>\n",
       "      <th>0</th>\n",
       "      <td>cropland</td>\n",
       "      <td>140</td>\n",
       "    </tr>\n",
       "    <tr>\n",
       "      <th>1</th>\n",
       "      <td>grassland</td>\n",
       "      <td>224</td>\n",
       "    </tr>\n",
       "    <tr>\n",
       "      <th>2</th>\n",
       "      <td>grassland</td>\n",
       "      <td>11</td>\n",
       "    </tr>\n",
       "    <tr>\n",
       "      <th>3</th>\n",
       "      <td>cropland</td>\n",
       "      <td>407</td>\n",
       "    </tr>\n",
       "    <tr>\n",
       "      <th>4</th>\n",
       "      <td>cropland</td>\n",
       "      <td>323</td>\n",
       "    </tr>\n",
       "    <tr>\n",
       "      <th>5</th>\n",
       "      <td>grassland</td>\n",
       "      <td>308</td>\n",
       "    </tr>\n",
       "    <tr>\n",
       "      <th>6</th>\n",
       "      <td>cropland</td>\n",
       "      <td>409</td>\n",
       "    </tr>\n",
       "    <tr>\n",
       "      <th>7</th>\n",
       "      <td>cropland</td>\n",
       "      <td>492</td>\n",
       "    </tr>\n",
       "    <tr>\n",
       "      <th>8</th>\n",
       "      <td>water</td>\n",
       "      <td>457</td>\n",
       "    </tr>\n",
       "    <tr>\n",
       "      <th>9</th>\n",
       "      <td>grassland</td>\n",
       "      <td>223</td>\n",
       "    </tr>\n",
       "  </tbody>\n",
       "</table>\n",
       "</div>"
      ],
      "text/plain": [
       "       label   dn\n",
       "0   cropland  140\n",
       "1  grassland  224\n",
       "2  grassland   11\n",
       "3   cropland  407\n",
       "4   cropland  323\n",
       "5  grassland  308\n",
       "6   cropland  409\n",
       "7   cropland  492\n",
       "8      water  457\n",
       "9  grassland  223"
      ]
     },
     "execution_count": 14,
     "metadata": {},
     "output_type": "execute_result"
    }
   ],
   "source": [
    "df = pd.DataFrame({'label': labels, 'dn': dn_values})\n",
    "df.head(10)"
   ]
  },
  {
   "cell_type": "markdown",
   "metadata": {},
   "source": [
    "##### Grouping data by label"
   ]
  },
  {
   "cell_type": "code",
   "execution_count": 17,
   "metadata": {},
   "outputs": [
    {
     "data": {
      "text/plain": [
       "{'cropland': Int64Index([   0,    3,    4,    6,    7,   11,   15,   18,   19,   20,\n",
       "             ...\n",
       "             9982, 9983, 9986, 9987, 9988, 9989, 9994, 9996, 9997, 9999],\n",
       "            dtype='int64', length=5035),\n",
       " 'forest': Int64Index([  74,   87,  118,  147,  186,  194,  196,  209,  229,  235,\n",
       "             ...\n",
       "             9714, 9730, 9760, 9784, 9810, 9848, 9862, 9918, 9930, 9985],\n",
       "            dtype='int64', length=504),\n",
       " 'grassland': Int64Index([   1,    2,    5,    9,   10,   12,   14,   25,   26,   27,\n",
       "             ...\n",
       "             9968, 9969, 9974, 9975, 9978, 9980, 9990, 9992, 9995, 9998],\n",
       "            dtype='int64', length=2422),\n",
       " 'urban': Int64Index([  13,   16,   17,   30,   41,   50,   65,   68,   70,   77,\n",
       "             ...\n",
       "             9951, 9960, 9961, 9967, 9973, 9979, 9981, 9984, 9991, 9993],\n",
       "            dtype='int64', length=1560),\n",
       " 'water': Int64Index([   8,   33,   46,  138,  144,  184,  198,  215,  226,  241,\n",
       "             ...\n",
       "             9740, 9746, 9770, 9797, 9825, 9827, 9921, 9938, 9948, 9956],\n",
       "            dtype='int64', length=479)}"
      ]
     },
     "execution_count": 17,
     "metadata": {},
     "output_type": "execute_result"
    }
   ],
   "source": [
    "groups = df.groupby('label').groups\n",
    "groups"
   ]
  },
  {
   "cell_type": "markdown",
   "metadata": {},
   "source": [
    "##### Extracting the individual groups in an array"
   ]
  },
  {
   "cell_type": "code",
   "execution_count": 19,
   "metadata": {},
   "outputs": [],
   "source": [
    "forest = dn_values[groups['forest']]\n",
    "cropland = dn_values[groups['cropland']]\n",
    "grassland = dn_values[groups['grassland']]\n",
    "urban = dn_values[groups['urban']]\n",
    "water = dn_values[groups['water']]"
   ]
  },
  {
   "cell_type": "markdown",
   "metadata": {},
   "source": [
    "##### Performing the anova"
   ]
  },
  {
   "cell_type": "code",
   "execution_count": 20,
   "metadata": {},
   "outputs": [
    {
     "data": {
      "text/plain": [
       "F_onewayResult(statistic=1.647964039875993, pvalue=0.15918633054959683)"
      ]
     },
     "execution_count": 20,
     "metadata": {},
     "output_type": "execute_result"
    }
   ],
   "source": [
    "stats.f_oneway(forest, cropland, grassland, urban, water)"
   ]
  },
  {
   "cell_type": "markdown",
   "metadata": {},
   "source": [
    "##### Performing the post - hoc test"
   ]
  },
  {
   "cell_type": "code",
   "execution_count": 22,
   "metadata": {},
   "outputs": [
    {
     "data": {
      "text/plain": [
       "[('forest', 'urban'),\n",
       " ('forest', 'grassland'),\n",
       " ('forest', 'water'),\n",
       " ('forest', 'cropland'),\n",
       " ('urban', 'grassland'),\n",
       " ('urban', 'water'),\n",
       " ('urban', 'cropland'),\n",
       " ('grassland', 'water'),\n",
       " ('grassland', 'cropland'),\n",
       " ('water', 'cropland')]"
      ]
     },
     "execution_count": 22,
     "metadata": {},
     "output_type": "execute_result"
    }
   ],
   "source": [
    "cid_pairs = []\n",
    "for cid1 in range(4):\n",
    "    for cid2 in range(cid1+1,5):\n",
    "        cid_pairs.append((classes[cid1], classes[cid2]))\n",
    "\n",
    "cid_pairs "
   ]
  },
  {
   "cell_type": "code",
   "execution_count": 24,
   "metadata": {},
   "outputs": [
    {
     "name": "stdout",
     "output_type": "stream",
     "text": [
      "forest urban\n",
      "Ttest_indResult(statistic=-0.20675046056039545, pvalue=0.8362251598797402)\n",
      "forest grassland\n",
      "Ttest_indResult(statistic=0.8951437358471568, pvalue=0.3707839364352341)\n",
      "forest water\n",
      "Ttest_indResult(statistic=-0.9938465069785642, pvalue=0.32054267302486844)\n",
      "forest cropland\n",
      "Ttest_indResult(statistic=0.5688319571053333, pvalue=0.5694932559039361)\n",
      "urban grassland\n",
      "Ttest_indResult(statistic=1.677531839210868, pvalue=0.09351704832379107)\n",
      "urban water\n",
      "Ttest_indResult(statistic=-1.0148084555543668, pvalue=0.31031766097049607)\n",
      "urban cropland\n",
      "Ttest_indResult(statistic=1.282719641901738, pvalue=0.19963540901243756)\n",
      "grassland water\n",
      "Ttest_indResult(statistic=-2.1432914945972614, pvalue=0.032172690895783916)\n",
      "grassland cropland\n",
      "Ttest_indResult(statistic=-0.6994352164213744, pvalue=0.48430190792859973)\n",
      "water cropland\n",
      "Ttest_indResult(statistic=1.8831120210239238, pvalue=0.05973779951141668)\n"
     ]
    }
   ],
   "source": [
    "for cid1, cid2 in cid_pairs:\n",
    "    print(cid1, cid2)\n",
    "    print(stats.ttest_ind(dn_values[groups[cid1]],\n",
    "                         dn_values[groups[cid2]]))"
   ]
  },
  {
   "cell_type": "markdown",
   "metadata": {},
   "source": [
    "In uneven datasets there is the need to adjust for the number of comparisons made by dividing the statistical significance level by the number of comparisons made. In our case we have a total number of 10 comparisons, and we are looking at a 5% level of significance, therefore we check p-values of the order 0.05/10 = 0.005 or less. This case of adjustment is called Bonferronni correction"
   ]
  },
  {
   "cell_type": "markdown",
   "metadata": {},
   "source": [
    "##### Using Tukey post hoc"
   ]
  },
  {
   "cell_type": "code",
   "execution_count": 25,
   "metadata": {},
   "outputs": [],
   "source": [
    "from statsmodels.stats.multicomp import pairwise_tukeyhsd"
   ]
  },
  {
   "cell_type": "markdown",
   "metadata": {},
   "source": [
    "##### Calculating the Tukey post hoc"
   ]
  },
  {
   "cell_type": "code",
   "execution_count": 29,
   "metadata": {},
   "outputs": [],
   "source": [
    "tukey = pairwise_tukeyhsd(endog = dn_values,\n",
    "                         groups = labels,\n",
    "                         alpha = 0.05) # Significant level\n"
   ]
  },
  {
   "cell_type": "code",
   "execution_count": 34,
   "metadata": {},
   "outputs": [
    {
     "data": {
      "text/plain": [
       "<matplotlib.collections.LineCollection at 0xa71de48>"
      ]
     },
     "execution_count": 34,
     "metadata": {},
     "output_type": "execute_result"
    },
    {
     "data": {
      "image/png": "[encoded data removed]",
      "text/plain": [
       "<Figure size 720x432 with 1 Axes>"
      ]
     },
     "metadata": {
      "needs_background": "light"
     },
     "output_type": "display_data"
    }
   ],
   "source": [
    "tukey.plot_simultaneous()\n",
    "plt.vlines(x = 0, ymin = 0, ymax = 5, color = 'green')"
   ]
  },
  {
   "cell_type": "code",
   "execution_count": 35,
   "metadata": {},
   "outputs": [
    {
     "data": {
      "text/html": [
       "<table class=\"simpletable\">\n",
       "<caption>Multiple Comparison of Means - Tukey HSD,FWER=0.05</caption>\n",
       "<tr>\n",
       "   <th>group1</th>    <th>group2</th>   <th>meandiff</th>   <th>lower</th>   <th>upper</th>  <th>reject</th>\n",
       "</tr>\n",
       "<tr>\n",
       "  <td>cropland</td>   <td>forest</td>    <td>3.8692</td>  <td>-14.6896</td> <td>22.428</td>   <td>False</td>\n",
       "</tr>\n",
       "<tr>\n",
       "  <td>cropland</td>  <td>grassland</td>  <td>-2.5195</td> <td>-12.3425</td> <td>7.3034</td>   <td>False</td>\n",
       "</tr>\n",
       "<tr>\n",
       "  <td>cropland</td>    <td>urban</td>    <td>5.4078</td>   <td>-6.1027</td> <td>16.9183</td>  <td>False</td>\n",
       "</tr>\n",
       "<tr>\n",
       "  <td>cropland</td>    <td>water</td>    <td>13.1131</td>  <td>-5.8808</td> <td>32.107</td>   <td>False</td>\n",
       "</tr>\n",
       "<tr>\n",
       "   <td>forest</td>   <td>grassland</td>  <td>-6.3888</td> <td>-25.8371</td> <td>13.0596</td>  <td>False</td>\n",
       "</tr>\n",
       "<tr>\n",
       "   <td>forest</td>     <td>urban</td>    <td>1.5386</td>  <td>-18.8143</td> <td>21.8914</td>  <td>False</td>\n",
       "</tr>\n",
       "<tr>\n",
       "   <td>forest</td>     <td>water</td>    <td>9.2439</td>   <td>-16.104</td> <td>34.5918</td>  <td>False</td>\n",
       "</tr>\n",
       "<tr>\n",
       "  <td>grassland</td>   <td>urban</td>    <td>7.9273</td>   <td>-4.9685</td> <td>20.8232</td>  <td>False</td>\n",
       "</tr>\n",
       "<tr>\n",
       "  <td>grassland</td>   <td>water</td>    <td>15.6326</td>  <td>-4.2314</td> <td>35.4967</td>  <td>False</td>\n",
       "</tr>\n",
       "<tr>\n",
       "    <td>urban</td>     <td>water</td>    <td>7.7053</td>  <td>-13.0451</td> <td>28.4557</td>  <td>False</td>\n",
       "</tr>\n",
       "</table>"
      ],
      "text/plain": [
       "<class 'statsmodels.iolib.table.SimpleTable'>"
      ]
     },
     "execution_count": 35,
     "metadata": {},
     "output_type": "execute_result"
    }
   ],
   "source": [
    "tukey.summary()"
   ]
  },
  {
   "cell_type": "markdown",
   "metadata": {},
   "source": [
    "##### Summary:\n",
    "The output of a Tukey test, shows us the suggestion based on the data, if we should or not reject a null hypothesis (there are no differences between the mean values of the groups). This test above suggest that we cannot reject the null hypothesis in any of the comparisons."
   ]
  }
 ],
 "metadata": {
  "kernelspec": {
   "display_name": "Python 3",
   "language": "python",
   "name": "python3"
  },
  "language_info": {
   "codemirror_mode": {
    "name": "ipython",
    "version": 3
   },
   "file_extension": ".py",
   "mimetype": "text/x-python",
   "name": "python",
   "nbconvert_exporter": "python",
   "pygments_lexer": "ipython3",
   "version": "3.6.6"
  }
 },
 "nbformat": 4,
 "nbformat_minor": 2
}
